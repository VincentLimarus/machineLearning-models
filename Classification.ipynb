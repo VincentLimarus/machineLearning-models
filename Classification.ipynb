{
 "cells": [
  {
   "cell_type": "code",
   "execution_count": 6,
   "metadata": {},
   "outputs": [],
   "source": [
    "from pyspark.sql import SparkSession\n",
    "\n",
    "spark = SparkSession.builder.getOrCreate()"
   ]
  },
  {
   "cell_type": "code",
   "execution_count": 7,
   "metadata": {},
   "outputs": [
    {
     "name": "stdout",
     "output_type": "stream",
     "text": [
      "+----------------+------+------+---------------+---------+-------+-------------+---------+\n",
      "|            Name|Gender|Height|Education Level|Eye Color|Married|Salary Income|Depressed|\n",
      "+----------------+------+------+---------------+---------+-------+-------------+---------+\n",
      "|    Lila Bracher|  Male|   151|            Low|    Black|     No|     74000000|      Yes|\n",
      "|Archibaldo Bigly|  Male|   162|           High|     Blue|    Yes|     29000000|       No|\n",
      "|    Dion Stopher|  Male|   155|   Intermediate|    Brown|    Yes|    134000000|       No|\n",
      "|  Genna Hallagan|  Male|   143|   Intermediate|     Blue|     No|     13000000|      Yes|\n",
      "|       Alis Fass|Female|   163|            Low|     Blue|    Yes|      7000000|      Yes|\n",
      "+----------------+------+------+---------------+---------+-------+-------------+---------+\n",
      "only showing top 5 rows\n",
      "\n",
      "+----------------+------+------+---------------+---------+-------+-------------+---------+\n",
      "|            Name|Gender|Height|Education Level|Eye Color|Married|Salary Income|Depressed|\n",
      "+----------------+------+------+---------------+---------+-------+-------------+---------+\n",
      "|   Sax Tesseyman|Female|   174|   Intermediate|     Blue|    Yes|     85000000|       No|\n",
      "|     Niels Greet|  Male|   165|   Intermediate|    Black|     No|     14000000|       No|\n",
      "|  Minetta Santry|Female|   160|            Low|    Black|     No|    148000000|      Yes|\n",
      "|  Sherm Gossipin|Female|   144|           High|    Black|     No|     50000000|      Yes|\n",
      "|Cathie Blackmuir|  Male|   168|   Intermediate|    Black|    Yes|    101000000|       No|\n",
      "+----------------+------+------+---------------+---------+-------+-------------+---------+\n",
      "only showing top 5 rows\n",
      "\n"
     ]
    }
   ],
   "source": [
    "# First Step: Loading Datasets\n",
    "data_test = spark.read.csv(\"classificationAssets/Classification_Test.csv\", header=True, inferSchema=True)\n",
    "data_train = spark.read.csv(\"classificationAssets/Classification_Train.csv\", header=True, inferSchema=True)\n",
    "\n",
    "data_test.show(5)\n",
    "data_train.show(5)"
   ]
  },
  {
   "cell_type": "code",
   "execution_count": 8,
   "metadata": {},
   "outputs": [
    {
     "name": "stdout",
     "output_type": "stream",
     "text": [
      "+---------------+-------+-------------+---------+\n",
      "|Education Level|Married|Salary Income|Depressed|\n",
      "+---------------+-------+-------------+---------+\n",
      "|            Low|     No|     74000000|      Yes|\n",
      "|           High|    Yes|     29000000|       No|\n",
      "|   Intermediate|    Yes|    134000000|       No|\n",
      "|   Intermediate|     No|     13000000|      Yes|\n",
      "|            Low|    Yes|      7000000|      Yes|\n",
      "+---------------+-------+-------------+---------+\n",
      "only showing top 5 rows\n",
      "\n",
      "+---------------+-------+-------------+---------+\n",
      "|Education Level|Married|Salary Income|Depressed|\n",
      "+---------------+-------+-------------+---------+\n",
      "|   Intermediate|    Yes|     85000000|       No|\n",
      "|   Intermediate|     No|     14000000|       No|\n",
      "|            Low|     No|    148000000|      Yes|\n",
      "|           High|     No|     50000000|      Yes|\n",
      "|   Intermediate|    Yes|    101000000|       No|\n",
      "+---------------+-------+-------------+---------+\n",
      "only showing top 5 rows\n",
      "\n"
     ]
    }
   ],
   "source": [
    "# Second Step: Select Features\n",
    "data_test_features = data_test.select(\"Education Level\", \"Married\", \"Salary Income\", \"Depressed\")\n",
    "data_train_features = data_train.select(\"Education Level\", \"Married\", \"Salary Income\", \"Depressed\")\n",
    "\n",
    "data_test_features.show(5)\n",
    "data_train_features.show(5)"
   ]
  },
  {
   "cell_type": "code",
   "execution_count": 9,
   "metadata": {},
   "outputs": [
    {
     "name": "stdout",
     "output_type": "stream",
     "text": [
      "+---------------+-------+-------------+---------+\n",
      "|Education Level|Married|Salary Income|Depressed|\n",
      "+---------------+-------+-------------+---------+\n",
      "|            Low|     No|     74000000|      Yes|\n",
      "|           High|    Yes|     29000000|       No|\n",
      "|   Intermediate|    Yes|    134000000|       No|\n",
      "|   Intermediate|     No|     13000000|      Yes|\n",
      "|            Low|    Yes|      7000000|      Yes|\n",
      "+---------------+-------+-------------+---------+\n",
      "only showing top 5 rows\n",
      "\n",
      "+---------------+-------+-------------+---------+\n",
      "|Education Level|Married|Salary Income|Depressed|\n",
      "+---------------+-------+-------------+---------+\n",
      "|   Intermediate|    Yes|     85000000|       No|\n",
      "|   Intermediate|     No|     14000000|       No|\n",
      "|            Low|     No|    148000000|      Yes|\n",
      "|           High|     No|     50000000|      Yes|\n",
      "|   Intermediate|    Yes|    101000000|       No|\n",
      "+---------------+-------+-------------+---------+\n",
      "only showing top 5 rows\n",
      "\n"
     ]
    }
   ],
   "source": [
    "# Third Step: Data Preprocessing -> Cleaning Data that contains NULL and Outliers\n",
    "data_test_cleaned = data_test_features.na.drop()\n",
    "data_train_cleaned = data_train_features.na.drop()\n",
    "\n",
    "data_test_cleaned.show(5)\n",
    "data_train_cleaned.show(5)"
   ]
  },
  {
   "cell_type": "code",
   "execution_count": 10,
   "metadata": {},
   "outputs": [
    {
     "name": "stdout",
     "output_type": "stream",
     "text": [
      "+---------------+-------+-------------+---------+\n",
      "|Education Level|Married|Salary Income|Depressed|\n",
      "+---------------+-------+-------------+---------+\n",
      "|              0|      0|     74000000|        1|\n",
      "|              2|      1|     29000000|        0|\n",
      "|              1|      1|    134000000|        0|\n",
      "|              1|      0|     13000000|        1|\n",
      "|              0|      1|      7000000|        1|\n",
      "+---------------+-------+-------------+---------+\n",
      "only showing top 5 rows\n",
      "\n",
      "+---------------+-------+-------------+---------+\n",
      "|Education Level|Married|Salary Income|Depressed|\n",
      "+---------------+-------+-------------+---------+\n",
      "|              1|      1|     85000000|        0|\n",
      "|              1|      0|     14000000|        0|\n",
      "|              0|      0|    148000000|        1|\n",
      "|              2|      0|     50000000|        1|\n",
      "|              1|      1|    101000000|        0|\n",
      "+---------------+-------+-------------+---------+\n",
      "only showing top 5 rows\n",
      "\n"
     ]
    }
   ],
   "source": [
    "# Fourth Step: Data Transformation -> Transforming Categorical Data into Numerical Data\n",
    "from pyspark.sql.functions import when\n",
    "\n",
    "# Transforming Test Data\n",
    "data_test_transformed = data_test_cleaned.withColumn(\n",
    "    \"Married\", when(data_test_cleaned[\"Married\"] == \"No\", 0).\n",
    "               when(data_test_cleaned[\"Married\"] == \"Yes\", 1)\n",
    ").withColumn(\n",
    "    \"Education Level\", when(data_test_cleaned[\"Education Level\"] == \"Low\", 0).\n",
    "                       when(data_test_cleaned[\"Education Level\"] == \"Intermediate\", 1).\n",
    "                       when(data_test_cleaned[\"Education Level\"] == \"High\", 2)\n",
    ").withColumn(\n",
    "    \"Depressed\", when(data_test_cleaned[\"Depressed\"] == \"Yes\", 1).\n",
    "                when(data_test_cleaned[\"Depressed\"] == \"No\", 0)\n",
    ")\n",
    "\n",
    "# Transforming Training Data\n",
    "data_train_transformed = data_train_cleaned.withColumn(\n",
    "    \"Married\", when(data_train_cleaned[\"Married\"] == \"Yes\", 1).\n",
    "               when(data_train_cleaned[\"Married\"] == \"No\", 0)\n",
    ").withColumn(\n",
    "    \"Education Level\", when(data_train_cleaned[\"Education Level\"] == \"Low\", 0).\n",
    "                       when(data_train_cleaned[\"Education Level\"] == \"Intermediate\", 1).\n",
    "                       when(data_train_cleaned[\"Education Level\"] == \"High\", 2)\n",
    ").withColumn(\n",
    "    \"Depressed\", when(data_train_cleaned[\"Depressed\"] == \"Yes\", 1).\n",
    "                when(data_train_cleaned[\"Depressed\"] == \"No\", 0)\n",
    ")\n",
    "\n",
    "data_test_transformed.show(5)\n",
    "data_train_transformed.show(5)"
   ]
  },
  {
   "cell_type": "code",
   "execution_count": 11,
   "metadata": {},
   "outputs": [
    {
     "name": "stdout",
     "output_type": "stream",
     "text": [
      "+---------------+-------+-------------+---------+----------------+--------------------+\n",
      "|Education Level|Married|Salary Income|Depressed|        Features|     scaled_features|\n",
      "+---------------+-------+-------------+---------+----------------+--------------------+\n",
      "|              1|      1|     85000000|        0| [1.0,1.0,8.5E7]|[1.29595742362073...|\n",
      "|              1|      0|     14000000|        0| [1.0,0.0,1.4E7]|[1.29595742362073...|\n",
      "|              0|      0|    148000000|        1|[0.0,0.0,1.48E8]|[0.0,0.0,3.572913...|\n",
      "|              2|      0|     50000000|        1| [2.0,0.0,5.0E7]|[2.59191484724147...|\n",
      "|              1|      1|    101000000|        0|[1.0,1.0,1.01E8]|[1.29595742362073...|\n",
      "+---------------+-------+-------------+---------+----------------+--------------------+\n",
      "only showing top 5 rows\n",
      "\n",
      "+---------------+-------+-------------+---------+-------------------+--------------------+\n",
      "|Education Level|Married|Salary Income|Depressed|           Features|     scaled_features|\n",
      "+---------------+-------+-------------+---------+-------------------+--------------------+\n",
      "|              0|      0|     74000000|        1|    [0.0,0.0,7.4E7]|[0.0,0.0,1.803968...|\n",
      "|              2|      1|     29000000|        0|    [2.0,1.0,2.9E7]|[2.54974382356388...|\n",
      "|              1|      1|    134000000|        0|   [1.0,1.0,1.34E8]|[1.27487191178194...|\n",
      "|              1|      0|     13000000|        1|    [1.0,0.0,1.3E7]|[1.27487191178194...|\n",
      "|              0|      1|      7000000|        1|[0.0,1.0,7000000.0]|[0.0,1.9995039364...|\n",
      "+---------------+-------+-------------+---------+-------------------+--------------------+\n",
      "only showing top 5 rows\n",
      "\n"
     ]
    }
   ],
   "source": [
    "# Fifth Step: Doing Normalization using StandardScaler and VectorAssembler\n",
    "from pyspark.ml.feature import StandardScaler, VectorAssembler\n",
    "\n",
    "cols = data_test_transformed.columns\n",
    "cols.remove(\"Depressed\")\n",
    "\n",
    "data_train_transformed = VectorAssembler(inputCols=cols, outputCol=\"Features\").transform(data_train_transformed)\n",
    "scaler = StandardScaler(inputCol=\"Features\", outputCol=\"scaled_features\")\n",
    "data_train_transformed = scaler.fit(data_train_transformed).transform(data_train_transformed)\n",
    "\n",
    "# Do the same thing for Test Data\n",
    "\n",
    "cols = data_test_transformed.columns\n",
    "cols.remove(\"Depressed\")\n",
    "\n",
    "data_test_transformed = VectorAssembler(inputCols=cols, outputCol=\"Features\").transform(data_test_transformed)\n",
    "scaler = StandardScaler(inputCol=\"Features\", outputCol=\"scaled_features\")\n",
    "data_test_transformed = scaler.fit(data_test_transformed).transform(data_test_transformed)\n",
    "\n",
    "data_train_transformed.show(5)\n",
    "data_test_transformed.show(5)"
   ]
  },
  {
   "cell_type": "code",
   "execution_count": 12,
   "metadata": {},
   "outputs": [],
   "source": [
    "# Sixth Step: Generating Models, Here i will use Logistic Regression for predicting the Depressed or Not\n",
    "from pyspark.ml.classification import LogisticRegression\n",
    "\n",
    "model = LogisticRegression(featuresCol=\"scaled_features\", labelCol=\"Depressed\", maxIter = 10).fit(data_train_transformed)"
   ]
  },
  {
   "cell_type": "code",
   "execution_count": 13,
   "metadata": {},
   "outputs": [
    {
     "name": "stdout",
     "output_type": "stream",
     "text": [
      "+---------------+-------+-------------+---------+----------+\n",
      "|Education Level|Married|Salary Income|Depressed|Prediction|\n",
      "+---------------+-------+-------------+---------+----------+\n",
      "|              0|      0|     74000000|        1|       1.0|\n",
      "|              2|      1|     29000000|        0|       0.0|\n",
      "|              1|      1|    134000000|        0|       0.0|\n",
      "|              1|      0|     13000000|        1|       1.0|\n",
      "|              0|      1|      7000000|        1|       1.0|\n",
      "|              1|      0|    106000000|        1|       1.0|\n",
      "|              2|      0|     35000000|        1|       1.0|\n",
      "|              2|      1|    124000000|        0|       0.0|\n",
      "|              0|      0|      7000000|        1|       1.0|\n",
      "|              0|      0|    122000000|        1|       1.0|\n",
      "|              2|      0|    109000000|        1|       0.0|\n",
      "|              1|      1|    136000000|        0|       0.0|\n",
      "|              0|      1|      4000000|        0|       1.0|\n",
      "|              1|      1|     18000000|        0|       0.0|\n",
      "|              1|      1|     35000000|        0|       0.0|\n",
      "|              2|      0|     73000000|        0|       1.0|\n",
      "|              2|      1|     60000000|        0|       0.0|\n",
      "|              0|      0|     57000000|        1|       1.0|\n",
      "|              0|      0|     57000000|        1|       1.0|\n",
      "|              1|      1|     84000000|        0|       0.0|\n",
      "+---------------+-------+-------------+---------+----------+\n",
      "only showing top 20 rows\n",
      "\n",
      "The Area Under ROC is: 87.06%\n"
     ]
    }
   ],
   "source": [
    "# Seventh Step: Predicting the Test Data and Testing Result using Confusion Matrix\n",
    "from pyspark.ml.evaluation import BinaryClassificationEvaluator\n",
    "\n",
    "predictions = model.transform(data_test_transformed)\n",
    "predictions.select(\"Education Level\", \"Married\", \"Salary Income\",\"Depressed\", \"Prediction\").show(20)\n",
    "\n",
    "evaluator = BinaryClassificationEvaluator(labelCol=\"Depressed\")\n",
    "\n",
    "print(\"The Area Under ROC is: %.2f%%\" %(evaluator.evaluate(predictions)*100))"
   ]
  },
  {
   "cell_type": "code",
   "execution_count": 14,
   "metadata": {},
   "outputs": [
    {
     "name": "stdout",
     "output_type": "stream",
     "text": [
      "Defaulting to user installation because normal site-packages is not writeable\n",
      "Requirement already satisfied: scikit-learn in c:\\users\\user\\appdata\\roaming\\python\\python311\\site-packages (1.5.1)\n",
      "Requirement already satisfied: numpy>=1.19.5 in c:\\users\\user\\appdata\\roaming\\python\\python311\\site-packages (from scikit-learn) (1.24.2)\n",
      "Requirement already satisfied: scipy>=1.6.0 in c:\\users\\user\\appdata\\roaming\\python\\python311\\site-packages (from scikit-learn) (1.14.0)\n",
      "Requirement already satisfied: joblib>=1.2.0 in c:\\users\\user\\appdata\\roaming\\python\\python311\\site-packages (from scikit-learn) (1.4.2)\n",
      "Requirement already satisfied: threadpoolctl>=3.1.0 in c:\\users\\user\\appdata\\roaming\\python\\python311\\site-packages (from scikit-learn) (3.5.0)\n"
     ]
    }
   ],
   "source": [
    "!pip install scikit-learn"
   ]
  },
  {
   "cell_type": "code",
   "execution_count": 15,
   "metadata": {},
   "outputs": [
    {
     "data": {
      "image/png": "[encoded data removed]",
      "text/plain": [
       "<Figure size 640x480 with 2 Axes>"
      ]
     },
     "metadata": {},
     "output_type": "display_data"
    },
    {
     "name": "stdout",
     "output_type": "stream",
     "text": [
      "Class 0:\n",
      "  True Positives (TP): 806\n",
      "  False Positives(FP): 219\n",
      "  False Negatives(FN): 175\n",
      "  True Negatives (TN): 800\n",
      "\n",
      "Class 1:\n",
      "  True Positives (TP): 800\n",
      "  False Positives(FP): 175\n",
      "  False Negatives(FN): 219\n",
      "  True Negatives (TN): 806\n",
      "\n"
     ]
    }
   ],
   "source": [
    "# Eighth Step: Confusion Matrix and Metrics Calculation using scikit-learn library and matplotlib library for visualization\n",
    "from sklearn.metrics import confusion_matrix, ConfusionMatrixDisplay\n",
    "import matplotlib.pyplot as plt\n",
    "import numpy as np\n",
    "\n",
    "y_true = predictions.select(\"Depressed\").toPandas()\n",
    "y_pred = predictions.select(\"Prediction\").toPandas()\n",
    "\n",
    "cm = confusion_matrix(y_true, y_pred)\n",
    "disp = ConfusionMatrixDisplay(confusion_matrix=cm)\n",
    "disp.plot(cmap=plt.cm.Blues)\n",
    "plt.show()\n",
    "\n",
    "TP = np.diag(cm)\n",
    "FP = cm.sum(axis=0) - TP\n",
    "FN = cm.sum(axis=1) - TP\n",
    "TN = cm.sum() - (TP + FP + FN)\n",
    "\n",
    "for i in range(len(TP)):\n",
    "    print(f\"Class {i}:\")\n",
    "    print(f\"  True Positives (TP): {TP[i]}\")\n",
    "    print(f\"  False Positives(FP): {FP[i]}\")\n",
    "    print(f\"  False Negatives(FN): {FN[i]}\")\n",
    "    print(f\"  True Negatives (TN): {TN[i]}\")\n",
    "    print()"
   ]
  },
  {
   "cell_type": "code",
   "execution_count": 41,
   "metadata": {},
   "outputs": [
    {
     "name": "stdout",
     "output_type": "stream",
     "text": [
      "----------------------------------------------\n",
      "Accuracy  :  [80.3 80.3]\n",
      "Precision :  [78.63414634 82.05128205]\n",
      "Recall    :  [82.16106014 78.50834151]\n",
      "F1 Score  :  [80.35892323 80.24072217]\n",
      "----------------------------------------------\n"
     ]
    }
   ],
   "source": [
    "accuracy = ((TP + TN) / (TP + TN + FP + FN))*100\n",
    "precision = (TP / (TP + FP))*100\n",
    "recall = (TP / (TP + FN))*100\n",
    "f1_score = (2 * ((precision * recall) / (precision + recall)))\n",
    "\n",
    "print(\"----------------------------------------------\")\n",
    "print(\"Accuracy  : \", accuracy)\n",
    "print(\"Precision : \", precision)\n",
    "print(\"Recall    : \", recall)\n",
    "print(\"F1 Score  : \", f1_score)\n",
    "print(\"----------------------------------------------\")\n"
   ]
  }
 ],
 "metadata": {
  "kernelspec": {
   "display_name": "Python 3",
   "language": "python",
   "name": "python3"
  },
  "language_info": {
   "codemirror_mode": {
    "name": "ipython",
    "version": 3
   },
   "file_extension": ".py",
   "mimetype": "text/x-python",
   "name": "python",
   "nbconvert_exporter": "python",
   "pygments_lexer": "ipython3",
   "version": "3.11.2"
  }
 },
 "nbformat": 4,
 "nbformat_minor": 2
}
